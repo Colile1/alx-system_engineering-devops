{
 "cells": [
  {
   "cell_type": "code",
   "execution_count": null,
   "metadata": {},
   "outputs": [],
   "source": [
    "1+1"
   ]
  },
  {
   "cell_type": "code",
   "execution_count": null,
   "metadata": {},
   "outputs": [
    {
     "ename": "",
     "evalue": "",
     "output_type": "error",
     "traceback": [
      "\u001b[1;31mFailed to start the Kernel. \n",
      "\u001b[1;31mUnable to start Kernel 'Python 3.11.2' due to a timeout waiting for the ports to get used. \n",
      "\u001b[1;31mView Jupyter <a href='command:jupyter.viewOutput'>log</a> for further details."
     ]
    }
   ],
   "source": [
    "import graphviz\n",
    "\n",
    "# Create a directed graph for the flow diagram\n",
    "graph = graphviz.Digraph(format='png', engine='dot')\n",
    "\n",
    "# Define the nodes for the components\n",
    "graph.node('UI', 'User Interface (SDL2 + OpenGL)')\n",
    "graph.node('AppCore', 'Application Core (C++)')\n",
    "graph.node('UserInput', 'User Input (e.g., Node Placement, Force Application)')\n",
    "graph.node('ModelManager', 'Model Manager (Node/Beam Data)')\n",
    "graph.node('PhysicsEngine', 'Physics Engine (Force/Displacement Calculation)')\n",
    "graph.node('Renderer', 'Renderer (OpenGL + GLM)')\n",
    "graph.node('OpenGL', 'OpenGL (3D Visualization, Force Colors)')\n",
    "\n",
    "# Define the flow of data\n",
    "graph.edge('UserInput', 'ModelManager', label='Trigger Updates (Node/Force)')\n",
    "graph.edge('ModelManager', 'PhysicsEngine', label='Pass Updated Model Data')\n",
    "graph.edge('PhysicsEngine', 'ModelManager', label='Recalculate Forces/Displacements')\n",
    "graph.edge('ModelManager', 'Renderer', label='Pass Updated Model Data (Node Positions, Beam Forces)')\n",
    "graph.edge('Renderer', 'OpenGL', label='Draw Scene (Deformed Beams, Force Colors)')\n",
    "\n",
    "# Loop back to the input for continuous interaction\n",
    "graph.edge('UserInput', 'UserInput', label='60 FPS Interaction Loop')\n",
    "\n",
    "# Add the UI/Rendering and Application Core Layers\n",
    "graph.edge('UI', 'UserInput', label='Input Events (Mouse/Keyboard)')\n",
    "graph.edge('AppCore', 'ModelManager', label='Data Management (CSV Import/Export)')\n",
    "\n",
    "# Render the diagram\n",
    "graph.render('data_flow_diagram', view=True)\n"
   ]
  }
 ],
 "metadata": {
  "kernelspec": {
   "display_name": "Python 3",
   "language": "python",
   "name": "python3"
  },
  "language_info": {
   "name": "python",
   "version": "3.11.2"
  }
 },
 "nbformat": 4,
 "nbformat_minor": 2
}
